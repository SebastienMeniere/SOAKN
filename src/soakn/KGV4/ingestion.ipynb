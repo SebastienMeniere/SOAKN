{
 "cells": [
  {
   "cell_type": "code",
   "execution_count": 1,
   "metadata": {},
   "outputs": [],
   "source": [
    "import pandas as pd, datetime, calendar\n",
    "EPOCH0 = datetime.date(2025, 1, 1)        # arbitrary zero\n",
    "from neo4j import GraphDatabase\n",
    "from tqdm import tqdm\n",
    "from math import ceil\n",
    "# date = EPOCH0 + pd.to_timedelta((week-1)*7 + day-1, unit=\"d\")\n",
    "# seconds = (date - EPOCH0).days * 86400 + (trans_time//100)*3600 + (trans_time%100)*60"
   ]
  },
  {
   "cell_type": "code",
   "execution_count": 2,
   "metadata": {},
   "outputs": [],
   "source": [
    "def make_ts(week, day, hhmm):\n",
    "    base = (week - 1) * 7 + (day - 1)\n",
    "    date = EPOCH0 + datetime.timedelta(days=base)\n",
    "    secs  = (hhmm // 100) * 3600 + (hhmm % 100) * 60\n",
    "    return int((date - EPOCH0).days * 86400 + secs)"
   ]
  },
  {
   "cell_type": "code",
   "execution_count": 11,
   "metadata": {},
   "outputs": [],
   "source": [
    "def load_csvs(datadir=\"../data\"):\n",
    "    hh  = pd.read_csv(f\"{datadir}/hh_demographic.csv\")\n",
    "    pr  = pd.read_csv(f\"{datadir}/product.csv\")\n",
    "    trn = pd.read_csv(f\"{datadir}/transaction_data.csv\")\n",
    "    trn[\"t\"] = [make_ts(w, d, tt) for w, d, tt in zip(trn.WEEK_NO, trn.DAY, trn.TRANS_TIME)]\n",
    "    return hh, pr, trn"
   ]
  },
  {
   "cell_type": "code",
   "execution_count": 15,
   "metadata": {},
   "outputs": [],
   "source": [
    "def df_batches(df, size):\n",
    "    \"\"\"Yield successive size-row DataFrame slices.\"\"\"\n",
    "    n = len(df)\n",
    "    for i in range(0, n, size):\n",
    "        yield df.iloc[i:i + size]"
   ]
  },
  {
   "cell_type": "code",
   "execution_count": 19,
   "metadata": {},
   "outputs": [],
   "source": [
    "def neo_ingest(uri, user, pwd, hh, pr, trn, batch=1000):\n",
    "    driver = GraphDatabase.driver(uri, auth=(user, pwd))\n",
    "    with driver.session() as s:\n",
    "        # constraints\n",
    "        s.run(\"CREATE CONSTRAINT IF NOT EXISTS FOR (c:Consumer) REQUIRE c.hh_key IS UNIQUE\")\n",
    "        s.run(\"CREATE CONSTRAINT IF NOT EXISTS FOR (p:Product)  REQUIRE p.product_id IS UNIQUE\")\n",
    "        s.run(\"CREATE CONSTRAINT IF NOT EXISTS FOR (s:Seller)   REQUIRE s.store_id  IS UNIQUE\")\n",
    "        # merge consumers\n",
    "        hh = hh.where(pd.notnull(hh), None)   # kill NaNs\n",
    "        pr = pr.where(pd.notnull(pr), None)\n",
    "        trn = trn.where(pd.notnull(trn), None)\n",
    "        \n",
    "        for chunk in tqdm(df_batches(hh, batch), total=ceil(len(hh)/batch), desc=\"Consumers\"):\n",
    "            s.run(\"\"\"UNWIND $rows AS r MERGE (c:Consumer {hh_key:r.household_key}) SET c += apoc.map.clean(r, [], [null])\"\"\", rows=chunk.to_dict(\"records\"))\n",
    "        # merge products\n",
    "        for chunk in tqdm(df_batches(pr, batch), total=ceil(len(pr)/batch), desc=\"Products\"): \n",
    "            s.run(\"\"\"UNWIND $rows AS r MERGE (p:Product {product_id:r.PRODUCT_ID}) SET p += apoc.map.clean(r, [], [null])\"\"\", rows=chunk.to_dict(\"records\"))\n",
    "        # create edges\n",
    "        for chunk in tqdm(df_batches(trn, batch), total=ceil(len(trn)/batch), desc=\"Transactions\"):\n",
    "            s.run(\"\"\"\n",
    "                UNWIND $rows AS r\n",
    "                MATCH (c:Consumer {hh_key:r.household_key})\n",
    "                MATCH (p:Product  {product_id:r.PRODUCT_ID})\n",
    "                MERGE (s:Seller   {store_id:r.STORE_ID})\n",
    "                CREATE (c)-[:BOUGHT {\n",
    "                        t:r.t, basket_id:r.BASKET_ID, qty:r.QUANTITY,\n",
    "                        sales_value:r.SALES_VALUE, retail_disc:r.RETAIL_DISC,\n",
    "                        coupon:r.COUPON_DISC + r.COUPON_MATCH_DISC\n",
    "                    }]->(p)\n",
    "                MERGE (c)-[:SHOPPED_AT {t:r.t}]->(s)\"\"\", rows=chunk.to_dict(\"records\"))"
   ]
  },
  {
   "cell_type": "code",
   "execution_count": 12,
   "metadata": {},
   "outputs": [],
   "source": [
    "import argparse, pathlib\n",
    "# ap = argparse.ArgumentParser()\n",
    "# ap.add_argument(\"--neo4j-uri\", default=\"bolt://localhost:7474\")\n",
    "# ap.add_argument(\"--neo4j-user\", default=\"neo4j\")\n",
    "# ap.add_argument(\"--neo4j-pass\", default=\"test\")\n",
    "# ap.add_argument(\"--datadir\",    default=\"data\")\n",
    "# ap.add_argument(\"--export-dir\", default=\"exports\")\n",
    "# args = ap.parse_args()\n",
    "\n",
    "hh, pr, trn = load_csvs()\n",
    "# neo_ingest(\"bolt://localhost:7474\", \"neo4j\", \"Meniere19\", hh, pr, trn)"
   ]
  },
  {
   "cell_type": "code",
   "execution_count": 22,
   "metadata": {},
   "outputs": [
    {
     "name": "stderr",
     "output_type": "stream",
     "text": [
      "Consumers: 100%|██████████| 1/1 [00:00<00:00,  1.10it/s]\n",
      "Products: 100%|██████████| 93/93 [00:08<00:00, 11.35it/s]\n",
      "Transactions: 100%|██████████| 2596/2596 [04:17<00:00, 10.07it/s]\n"
     ]
    }
   ],
   "source": [
    "neo_ingest(\"bolt://localhost:7687\", \"neo4j\", \"Meniere19\", hh, pr, trn)"
   ]
  },
  {
   "cell_type": "code",
   "execution_count": 53,
   "metadata": {},
   "outputs": [
    {
     "data": {
      "text/html": [
       "<div>\n",
       "<style scoped>\n",
       "    .dataframe tbody tr th:only-of-type {\n",
       "        vertical-align: middle;\n",
       "    }\n",
       "\n",
       "    .dataframe tbody tr th {\n",
       "        vertical-align: top;\n",
       "    }\n",
       "\n",
       "    .dataframe thead th {\n",
       "        text-align: right;\n",
       "    }\n",
       "</style>\n",
       "<table border=\"1\" class=\"dataframe\">\n",
       "  <thead>\n",
       "    <tr style=\"text-align: right;\">\n",
       "      <th></th>\n",
       "      <th>user_id</th>\n",
       "      <th>item_id</th>\n",
       "      <th>timestamp</th>\n",
       "      <th>state_label</th>\n",
       "      <th>f1</th>\n",
       "      <th>f2</th>\n",
       "      <th>f3</th>\n",
       "      <th>f4</th>\n",
       "      <th>f5</th>\n",
       "      <th>f6</th>\n",
       "      <th>...</th>\n",
       "      <th>f163</th>\n",
       "      <th>f164</th>\n",
       "      <th>f165</th>\n",
       "      <th>f166</th>\n",
       "      <th>f167</th>\n",
       "      <th>f168</th>\n",
       "      <th>f169</th>\n",
       "      <th>f170</th>\n",
       "      <th>f171</th>\n",
       "      <th>f172</th>\n",
       "    </tr>\n",
       "  </thead>\n",
       "  <tbody>\n",
       "    <tr>\n",
       "      <th>0</th>\n",
       "      <td>0</td>\n",
       "      <td>0</td>\n",
       "      <td>0.0</td>\n",
       "      <td>0</td>\n",
       "      <td>-0.175063</td>\n",
       "      <td>-0.176678</td>\n",
       "      <td>-0.937091</td>\n",
       "      <td>-0.381926</td>\n",
       "      <td>0.0</td>\n",
       "      <td>-0.636535</td>\n",
       "      <td>...</td>\n",
       "      <td>-0.090115</td>\n",
       "      <td>-0.096068</td>\n",
       "      <td>-0.068136</td>\n",
       "      <td>-0.060835</td>\n",
       "      <td>-0.058394</td>\n",
       "      <td>-0.062079</td>\n",
       "      <td>-0.044674</td>\n",
       "      <td>-0.050464</td>\n",
       "      <td>-0.041448</td>\n",
       "      <td>-0.038775</td>\n",
       "    </tr>\n",
       "    <tr>\n",
       "      <th>1</th>\n",
       "      <td>1</td>\n",
       "      <td>1</td>\n",
       "      <td>36.0</td>\n",
       "      <td>0</td>\n",
       "      <td>-0.175063</td>\n",
       "      <td>-0.176678</td>\n",
       "      <td>-0.937091</td>\n",
       "      <td>-0.381926</td>\n",
       "      <td>0.0</td>\n",
       "      <td>-0.636535</td>\n",
       "      <td>...</td>\n",
       "      <td>-0.090115</td>\n",
       "      <td>-0.096068</td>\n",
       "      <td>-0.068136</td>\n",
       "      <td>-0.060835</td>\n",
       "      <td>-0.058394</td>\n",
       "      <td>-0.062079</td>\n",
       "      <td>-0.044674</td>\n",
       "      <td>-0.050464</td>\n",
       "      <td>-0.041448</td>\n",
       "      <td>-0.038775</td>\n",
       "    </tr>\n",
       "    <tr>\n",
       "      <th>2</th>\n",
       "      <td>1</td>\n",
       "      <td>1</td>\n",
       "      <td>77.0</td>\n",
       "      <td>0</td>\n",
       "      <td>-0.175063</td>\n",
       "      <td>-0.176678</td>\n",
       "      <td>-0.937091</td>\n",
       "      <td>-0.381926</td>\n",
       "      <td>0.0</td>\n",
       "      <td>-0.636535</td>\n",
       "      <td>...</td>\n",
       "      <td>-0.090115</td>\n",
       "      <td>-0.096068</td>\n",
       "      <td>-0.068136</td>\n",
       "      <td>-0.060835</td>\n",
       "      <td>-0.058394</td>\n",
       "      <td>-0.062079</td>\n",
       "      <td>-0.044674</td>\n",
       "      <td>-0.050464</td>\n",
       "      <td>-0.041448</td>\n",
       "      <td>-0.038775</td>\n",
       "    </tr>\n",
       "    <tr>\n",
       "      <th>3</th>\n",
       "      <td>2</td>\n",
       "      <td>2</td>\n",
       "      <td>131.0</td>\n",
       "      <td>0</td>\n",
       "      <td>-0.175063</td>\n",
       "      <td>-0.176678</td>\n",
       "      <td>-0.937091</td>\n",
       "      <td>-0.381926</td>\n",
       "      <td>0.0</td>\n",
       "      <td>-0.636535</td>\n",
       "      <td>...</td>\n",
       "      <td>-0.090115</td>\n",
       "      <td>-0.096068</td>\n",
       "      <td>-0.068136</td>\n",
       "      <td>-0.060835</td>\n",
       "      <td>-0.058394</td>\n",
       "      <td>-0.062079</td>\n",
       "      <td>-0.044674</td>\n",
       "      <td>-0.050464</td>\n",
       "      <td>-0.041448</td>\n",
       "      <td>-0.038775</td>\n",
       "    </tr>\n",
       "    <tr>\n",
       "      <th>4</th>\n",
       "      <td>1</td>\n",
       "      <td>1</td>\n",
       "      <td>150.0</td>\n",
       "      <td>0</td>\n",
       "      <td>-0.175063</td>\n",
       "      <td>-0.176678</td>\n",
       "      <td>-0.937091</td>\n",
       "      <td>-0.381926</td>\n",
       "      <td>0.0</td>\n",
       "      <td>-0.636535</td>\n",
       "      <td>...</td>\n",
       "      <td>-0.090115</td>\n",
       "      <td>-0.096068</td>\n",
       "      <td>-0.068136</td>\n",
       "      <td>-0.060835</td>\n",
       "      <td>-0.058394</td>\n",
       "      <td>-0.062079</td>\n",
       "      <td>-0.044674</td>\n",
       "      <td>-0.050464</td>\n",
       "      <td>-0.041448</td>\n",
       "      <td>-0.038775</td>\n",
       "    </tr>\n",
       "  </tbody>\n",
       "</table>\n",
       "<p>5 rows × 176 columns</p>\n",
       "</div>"
      ],
      "text/plain": [
       "   user_id  item_id  timestamp  state_label        f1        f2        f3  \\\n",
       "0        0        0        0.0            0 -0.175063 -0.176678 -0.937091   \n",
       "1        1        1       36.0            0 -0.175063 -0.176678 -0.937091   \n",
       "2        1        1       77.0            0 -0.175063 -0.176678 -0.937091   \n",
       "3        2        2      131.0            0 -0.175063 -0.176678 -0.937091   \n",
       "4        1        1      150.0            0 -0.175063 -0.176678 -0.937091   \n",
       "\n",
       "         f4   f5        f6  ...      f163      f164      f165      f166  \\\n",
       "0 -0.381926  0.0 -0.636535  ... -0.090115 -0.096068 -0.068136 -0.060835   \n",
       "1 -0.381926  0.0 -0.636535  ... -0.090115 -0.096068 -0.068136 -0.060835   \n",
       "2 -0.381926  0.0 -0.636535  ... -0.090115 -0.096068 -0.068136 -0.060835   \n",
       "3 -0.381926  0.0 -0.636535  ... -0.090115 -0.096068 -0.068136 -0.060835   \n",
       "4 -0.381926  0.0 -0.636535  ... -0.090115 -0.096068 -0.068136 -0.060835   \n",
       "\n",
       "       f167      f168      f169      f170      f171      f172  \n",
       "0 -0.058394 -0.062079 -0.044674 -0.050464 -0.041448 -0.038775  \n",
       "1 -0.058394 -0.062079 -0.044674 -0.050464 -0.041448 -0.038775  \n",
       "2 -0.058394 -0.062079 -0.044674 -0.050464 -0.041448 -0.038775  \n",
       "3 -0.058394 -0.062079 -0.044674 -0.050464 -0.041448 -0.038775  \n",
       "4 -0.058394 -0.062079 -0.044674 -0.050464 -0.041448 -0.038775  \n",
       "\n",
       "[5 rows x 176 columns]"
      ]
     },
     "execution_count": 53,
     "metadata": {},
     "output_type": "execute_result"
    }
   ],
   "source": [
    "df = pd.read_csv(\"../data/file.csv\")\n",
    "df.head()"
   ]
  },
  {
   "cell_type": "code",
   "execution_count": 57,
   "metadata": {},
   "outputs": [
    {
     "data": {
      "text/plain": [
       "(157257,)"
      ]
     },
     "execution_count": 57,
     "metadata": {},
     "output_type": "execute_result"
    }
   ],
   "source": [
    "(df['state_label'][df['state_label']==0]).shape"
   ]
  },
  {
   "cell_type": "code",
   "execution_count": 58,
   "metadata": {},
   "outputs": [
    {
     "data": {
      "text/plain": [
       "(157474,)"
      ]
     },
     "execution_count": 58,
     "metadata": {},
     "output_type": "execute_result"
    }
   ],
   "source": [
    "df['state_label'].shape"
   ]
  },
  {
   "cell_type": "code",
   "execution_count": 45,
   "metadata": {},
   "outputs": [
    {
     "name": "stdout",
     "output_type": "stream",
     "text": [
      ",f1,f2,f3,f4,f5,f6,f7,f8,f9,f10,f11,f12,f13,f14,f15,f16,f17,f18,f19,f20,f21,f22,f23,f24,f25,f26,f27,f28,f29,f30,f31,f32,f33,f34,f35,f36,f37,f38,f39,f40,f41,f42,f43,f44,f45,f46,f47,f48,f49,f50,f51,f52,f53,f54,f55,f56,f57,f58,f59,f60,f61,f62,f63,f64,f65,f66,f67,f68,f69,f70,f71,f72,f73,f74,f75,f76,f77,f78,f79,f80,f81,f82,f83,f84,f85,f86,f87,f88,f89,f90,f91,f92,f93,f94,f95,f96,f97,f98,f99,f100,f101,f102,f103,f104,f105,f106,f107,f108,f109,f110,f111,f112,f113,f114,f115,f116,f117,f118,f119,f120,f121,f122,f123,f124,f125,f126,f127,f128,f129,f130,f131,f132,f133,f134,f135,f136,f137,f138,f139,f140,f141,f142,f143,f144,f145,f146,f147,f148,f149,f150,f151,f152,f153,f154,f155,f156,f157,f158,f159,f160,f161,f162,f163,f164,f165,f166,f167,f168,f169,f170,f171,f172\n"
     ]
    }
   ],
   "source": [
    "## FOR MAKING THE COL NAMES\n",
    "\n",
    "s = str()\n",
    "j = 1\n",
    "for i in range(172):\n",
    "    d = i+j\n",
    "    s = str(s + \",f{d}\".format(d=d))\n",
    "print(s)"
   ]
  },
  {
   "cell_type": "code",
   "execution_count": null,
   "metadata": {},
   "outputs": [],
   "source": []
  }
 ],
 "metadata": {
  "kernelspec": {
   "display_name": "soakn",
   "language": "python",
   "name": "python3"
  },
  "language_info": {
   "codemirror_mode": {
    "name": "ipython",
    "version": 3
   },
   "file_extension": ".py",
   "mimetype": "text/x-python",
   "name": "python",
   "nbconvert_exporter": "python",
   "pygments_lexer": "ipython3",
   "version": "3.13.1"
  }
 },
 "nbformat": 4,
 "nbformat_minor": 2
}
