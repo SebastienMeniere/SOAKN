{
 "cells": [
  {
   "cell_type": "code",
   "execution_count": 27,
   "metadata": {},
   "outputs": [],
   "source": [
    "import os, argparse\n",
    "from collections import defaultdict\n",
    "\n",
    "import numpy as np\n",
    "import pandas as pd\n",
    "from neo4j import GraphDatabase\n",
    "from sklearn.preprocessing import OneHotEncoder\n",
    "from tqdm import tqdm\n",
    "from sklearn.decomposition import TruncatedSVD"
   ]
  },
  {
   "cell_type": "code",
   "execution_count": 28,
   "metadata": {},
   "outputs": [],
   "source": [
    "URI = \"bolt://localhost:7687\"\n",
    "USER = \"neo4j\"\n",
    "PWD = \"Meniere19\"\n",
    "\n",
    "def get_driver(uri, user, pwd):\n",
    "    return GraphDatabase.driver(uri, auth=(user, pwd))"
   ]
  },
  {
   "cell_type": "code",
   "execution_count": 29,
   "metadata": {},
   "outputs": [],
   "source": [
    "\n",
    "EDGE_QUERY = \"\"\"\n",
    "MATCH (c:Consumer)-[r:BOUGHT]->(p:Product)\n",
    "RETURN c.hh_key               AS consumer_id,\n",
    "       c.AGE_DESC             AS age,\n",
    "       c.MARITAL_STATUS_CODE  AS marital,\n",
    "       c.INCOME_DESC          AS income,\n",
    "       c.HOMEOWNER_DESC       AS homeowner,\n",
    "       c.HH_COMP_DESC         AS hh_comp,\n",
    "       c.HOUSEHOLD_SIZE_DESC  AS hh_size,\n",
    "       c.KID_CATEGORY_DESC    AS kid_cat,\n",
    "\n",
    "       p.PRODUCT_ID           AS product_id,\n",
    "       p.MANUFACTURER         AS manufacturer,\n",
    "       p.DEPARTMENT           AS department,\n",
    "       p.BRAND                AS brand,\n",
    "       p.COMMODITY_DESC       AS commodity,\n",
    "       p.SUB_COMMODITY_DESC   AS sub_commodity,\n",
    "       p.CURR_SIZE_OF_PRODUCT AS size_of_prod,\n",
    "\n",
    "       r.t                    AS ts,\n",
    "       r.qty                  AS qty,\n",
    "       r.sales_value          AS sales_value,\n",
    "       r.retail_disc          AS retail_disc,\n",
    "       r.coupon               AS coupon\n",
    "\"\"\""
   ]
  },
  {
   "cell_type": "code",
   "execution_count": 30,
   "metadata": {},
   "outputs": [],
   "source": [
    "def fetch_all_edges(driver, batch=50_000):\n",
    "    \"\"\"Stream the Cypher result; return list-of-dicts.\"\"\"\n",
    "    edges = []\n",
    "    with driver.session() as s:\n",
    "        result = s.run(EDGE_QUERY)\n",
    "        # Neo4j driver is already streaming, but we wrap tqdm for progress\n",
    "        for record in tqdm(result, desc=\"Pulling edges from Neo4j\"):\n",
    "            edges.append(record.data())\n",
    "            # you could flush to disk every `batch` rows for large datasets\n",
    "    return edges"
   ]
  },
  {
   "cell_type": "code",
   "execution_count": 31,
   "metadata": {},
   "outputs": [],
   "source": [
    "def build_node_mappings(edge_dicts):\n",
    "    node2id, features = {}, []   # features will collect per node\n",
    "    def _add(node_key, feat_dict):\n",
    "        if node_key not in node2id:\n",
    "            node2id[node_key] = len(node2id)\n",
    "            features.append(feat_dict)\n",
    "    for d in edge_dicts:\n",
    "        # Consumer\n",
    "        c_key  = f\"C_{d.pop('consumer_id')}\"\n",
    "        c_feat = {k:d.pop(k) for k in\n",
    "                  (\"age\",\"marital\",\"income\",\"homeowner\",\n",
    "                   \"hh_comp\",\"hh_size\",\"kid_cat\")}\n",
    "        c_feat[\"node_type\"] = \"consumer\"\n",
    "        _add(c_key, c_feat)\n",
    "        # Product\n",
    "        p_key  = f\"P_{d.pop('product_id')}\"\n",
    "        p_feat = {k:d.pop(k) for k in\n",
    "                  (\"manufacturer\",\"department\",\"brand\",\n",
    "                   \"commodity\",\"sub_commodity\",\"size_of_prod\")}\n",
    "        p_feat[\"node_type\"] = \"product\"\n",
    "        _add(p_key, p_feat)\n",
    "        # Keep remaining edge props in dict\n",
    "        d[\"src\"] = node2id[c_key]\n",
    "        d[\"dst\"] = node2id[p_key]\n",
    "    return node2id, features, edge_dicts"
   ]
  },
  {
   "cell_type": "code",
   "execution_count": 32,
   "metadata": {},
   "outputs": [],
   "source": [
    "def encode_node_features(node_features, out_dim=10):\n",
    "    df = pd.DataFrame(node_features)\n",
    "\n",
    "    enc = OneHotEncoder(handle_unknown=\"ignore\", sparse_output=True)\n",
    "    X_sparse = enc.fit_transform(df)              # huge but sparse\n",
    "\n",
    "    svd = TruncatedSVD(n_components=out_dim, random_state=42)\n",
    "    X = svd.fit_transform(X_sparse).astype(np.float32)   # dense  (n_nodes × 128)\n",
    "\n",
    "    return X, (enc, svd)   \n",
    "\n",
    "def encode_edge_features(edge_dicts):\n",
    "    df = pd.DataFrame(edge_dicts)\n",
    "    # Numerical edge attributes we keep as-is\n",
    "    feat_mat = df[[\"qty\",\"sales_value\",\"retail_disc\",\"coupon\"]].fillna(0).to_numpy(dtype=np.float32)\n",
    "    return feat_mat, df"
   ]
  },
  {
   "cell_type": "code",
   "execution_count": 33,
   "metadata": {},
   "outputs": [],
   "source": [
    "def write_artifacts(df_edges, edge_feat, node_feat, out_dir=\"data\", prefix=\"ml_retail\"):\n",
    "    os.makedirs(out_dir, exist_ok=True)\n",
    "\n",
    "    # --- CSV (u,i,ts,idx,label)\n",
    "    df_edges = df_edges.sort_values(\"ts\").reset_index(drop=True)\n",
    "    df_edges[\"idx\"]   = df_edges.index\n",
    "    df_edges[\"label\"] = 0        # binary/other labels go here if you have them\n",
    "    df_edges.rename(columns={\"src\":\"u\",\"dst\":\"i\",\"ts\":\"ts\"}, inplace=True)\n",
    "    df_edges[[\"u\",\"i\",\"ts\",\"idx\",\"label\"]].to_csv(\n",
    "        f\"{out_dir}/{prefix}.csv\", index=False)\n",
    "\n",
    "    # --- Edge feature matrix\n",
    "    np.save(f\"{out_dir}/{prefix}.npy\", edge_feat)\n",
    "\n",
    "    # --- Node feature matrix\n",
    "    np.save(f\"{out_dir}/{prefix}_node.npy\", node_feat)"
   ]
  },
  {
   "cell_type": "code",
   "execution_count": 34,
   "metadata": {},
   "outputs": [
    {
     "name": "stdout",
     "output_type": "stream",
     "text": [
      "✅  Wrote 1,427,303 edges and 69,054 nodes into './data'\n"
     ]
    }
   ],
   "source": [
    "out = \"./data\"\n",
    "driver = get_driver(URI, USER, PWD)\n",
    "# 1. Pull everything\n",
    "# raw_edges = fetch_all_edges(driver)\n",
    "# # 2. Map nodes → ints, split edge / node info\n",
    "# node2id, node_feats, edges = build_node_mappings(raw_edges)\n",
    "# 3. Encode\n",
    "node_feat_mat, _  = encode_node_features(node_feats)\n",
    "edge_feat_mat, df = encode_edge_features(edges)\n",
    "# 4. Persist\n",
    "write_artifacts(df, edge_feat_mat, node_feat_mat, out_dir=out)\n",
    "print(f\"✅  Wrote {len(df):,} edges and {len(node_feat_mat):,} nodes into '{out}'\")"
   ]
  },
  {
   "cell_type": "code",
   "execution_count": null,
   "metadata": {},
   "outputs": [],
   "source": []
  }
 ],
 "metadata": {
  "kernelspec": {
   "display_name": "soakn-N2LZEInT-py3.13",
   "language": "python",
   "name": "python3"
  },
  "language_info": {
   "codemirror_mode": {
    "name": "ipython",
    "version": 3
   },
   "file_extension": ".py",
   "mimetype": "text/x-python",
   "name": "python",
   "nbconvert_exporter": "python",
   "pygments_lexer": "ipython3",
   "version": "3.13.1"
  }
 },
 "nbformat": 4,
 "nbformat_minor": 2
}
