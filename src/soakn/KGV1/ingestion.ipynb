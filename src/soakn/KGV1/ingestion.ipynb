{
 "cells": [
  {
   "cell_type": "code",
   "execution_count": 35,
   "metadata": {},
   "outputs": [],
   "source": [
    "import os, pandas as pd\n",
    "from dotenv import load_dotenv\n",
    "from neo4j import GraphDatabase, basic_auth\n",
    "import ast\n",
    "from datetime import datetime, timezone\n",
    "\n",
    "load_dotenv()\n",
    "driver = GraphDatabase.driver(\n",
    "    os.getenv(\"NEO4J_URI\"),\n",
    "    auth=basic_auth(\"neo4j\", \"sebastienM19\")\n",
    ")"
   ]
  },
  {
   "cell_type": "code",
   "execution_count": 31,
   "metadata": {},
   "outputs": [],
   "source": [
    "df = pd.read_csv(\"/Users/sebastienm/Desktop/DS/SOAKN/data/Retail_Transactions_Dataset.csv\")\n",
    "df[\"Product\"] = df[\"Product\"].apply(ast.literal_eval)"
   ]
  },
  {
   "cell_type": "code",
   "execution_count": 39,
   "metadata": {},
   "outputs": [],
   "source": [
    "query = open(\"cyphers/setup.cypher\").read()   # the template above"
   ]
  },
  {
   "cell_type": "code",
   "execution_count": 36,
   "metadata": {},
   "outputs": [],
   "source": [
    "def to_neo4j_datetime(ts_str: str):\n",
    "    \"\"\"\n",
    "    Convert '2020-09-03 12:39:59' → Python datetime with UTC tzinfo\n",
    "    The Neo4j driver will map this to a Cypher `datetime`.\n",
    "    \"\"\"\n",
    "    # 1. parse the naïve timestamp\n",
    "    dt = datetime.strptime(ts_str, \"%Y-%m-%d %H:%M:%S\")\n",
    "\n",
    "    # 2. attach a timezone (UTC here; choose another if your data is local)\n",
    "    return dt.replace(tzinfo=timezone.utc)\n",
    "\n",
    "# ── usage inside your ingestion code ───────────────────────────────────────────\n",
    "row_ts = to_neo4j_datetime(\"2020-09-03 12:39:59\")"
   ]
  },
  {
   "cell_type": "code",
   "execution_count": 44,
   "metadata": {},
   "outputs": [],
   "source": [
    "df_small = df.head(1000)\n",
    "def df_to_dicts(df):\n",
    "    return [\n",
    "        dict(\n",
    "            txn_id=int(r.Transaction_ID),\n",
    "            date=to_neo4j_datetime(r.Date),\n",
    "            customer=r.Customer_Name,\n",
    "            products=r.Product,\n",
    "            items=int(r.Total_Items),\n",
    "            cost=float(r.Total_Cost),\n",
    "            payment=r.Payment_Method,\n",
    "            city=r.City,\n",
    "            store_type=r.Store_Type,\n",
    "            discount=bool(r.Discount_Applied),\n",
    "            cust_cat=r.Customer_Category,\n",
    "            season=r.Season,\n",
    "            promo=None if pd.isna(r.Promotion) or r.Promotion in (\"None\", \"\", None) else r.Promotion\n",
    "        )\n",
    "        for r in df.itertuples(index=False)\n",
    "    ]\n",
    "\n",
    "rows = df_to_dicts(df_small)\n",
    "with driver.session() as s:\n",
    "    s.execute_write(lambda tx: tx.run(query, rows=rows))"
   ]
  },
  {
   "cell_type": "code",
   "execution_count": 27,
   "metadata": {},
   "outputs": [
    {
     "data": {
      "text/html": [
       "<div>\n",
       "<style scoped>\n",
       "    .dataframe tbody tr th:only-of-type {\n",
       "        vertical-align: middle;\n",
       "    }\n",
       "\n",
       "    .dataframe tbody tr th {\n",
       "        vertical-align: top;\n",
       "    }\n",
       "\n",
       "    .dataframe thead th {\n",
       "        text-align: right;\n",
       "    }\n",
       "</style>\n",
       "<table border=\"1\" class=\"dataframe\">\n",
       "  <thead>\n",
       "    <tr style=\"text-align: right;\">\n",
       "      <th></th>\n",
       "      <th>person</th>\n",
       "      <th>movie</th>\n",
       "      <th>stars</th>\n",
       "    </tr>\n",
       "  </thead>\n",
       "  <tbody>\n",
       "    <tr>\n",
       "      <th>0</th>\n",
       "      <td>Alice</td>\n",
       "      <td>Inception</td>\n",
       "      <td>4</td>\n",
       "    </tr>\n",
       "    <tr>\n",
       "      <th>1</th>\n",
       "      <td>Alice</td>\n",
       "      <td>The Matrix</td>\n",
       "      <td>5</td>\n",
       "    </tr>\n",
       "    <tr>\n",
       "      <th>2</th>\n",
       "      <td>Bob</td>\n",
       "      <td>Interstellar</td>\n",
       "      <td>5</td>\n",
       "    </tr>\n",
       "    <tr>\n",
       "      <th>3</th>\n",
       "      <td>Bob</td>\n",
       "      <td>The Matrix</td>\n",
       "      <td>4</td>\n",
       "    </tr>\n",
       "    <tr>\n",
       "      <th>4</th>\n",
       "      <td>Charlie</td>\n",
       "      <td>Inception</td>\n",
       "      <td>5</td>\n",
       "    </tr>\n",
       "  </tbody>\n",
       "</table>\n",
       "</div>"
      ],
      "text/plain": [
       "    person         movie  stars\n",
       "0    Alice     Inception      4\n",
       "1    Alice    The Matrix      5\n",
       "2      Bob  Interstellar      5\n",
       "3      Bob    The Matrix      4\n",
       "4  Charlie     Inception      5"
      ]
     },
     "execution_count": 27,
     "metadata": {},
     "output_type": "execute_result"
    }
   ],
   "source": []
  },
  {
   "cell_type": "code",
   "execution_count": null,
   "metadata": {},
   "outputs": [],
   "source": []
  }
 ],
 "metadata": {
  "kernelspec": {
   "display_name": "soakn",
   "language": "python",
   "name": "python3"
  },
  "language_info": {
   "codemirror_mode": {
    "name": "ipython",
    "version": 3
   },
   "file_extension": ".py",
   "mimetype": "text/x-python",
   "name": "python",
   "nbconvert_exporter": "python",
   "pygments_lexer": "ipython3",
   "version": "3.13.1"
  }
 },
 "nbformat": 4,
 "nbformat_minor": 2
}
